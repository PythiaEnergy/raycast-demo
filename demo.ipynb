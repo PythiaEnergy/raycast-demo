{
 "cells": [
  {
   "cell_type": "code",
   "execution_count": 4,
   "metadata": {},
   "outputs": [],
   "source": [
    "import os \n",
    "from datetime import datetime\n",
    "import ubiops\n",
    "from dotenv import load_dotenv\n",
    "import requests\n",
    "import json \n",
    "\n",
    "# Enter your API token here\n",
    "load_dotenv(\".env\")\n",
    "\n",
    "client = ubiops.ApiClient(ubiops.Configuration(\n",
    "\thost=\"https://api.ubiops.com/v2.1\",\n",
    "\tapi_key={\"Authorization\": os.environ[\"TOKEN_RAYCAST_USER\"]})\n",
    ")\n",
    "\n",
    "api = ubiops.CoreApi(client)\n",
    "\n",
    "ref_datetime = datetime.strptime(\"2024-06-20 06:30:00\", \"%Y-%m-%d %H:%M:%S\")"
   ]
  },
  {
   "cell_type": "code",
   "execution_count": 5,
   "metadata": {},
   "outputs": [],
   "source": [
    "def raycast_data_by_query(\n",
    "    token: str,\n",
    "    ref_datetime: datetime\n",
    "):\n",
    "    file_name = f\"irradiance_{ref_datetime.strftime('%Y%m%dT%H%M%S')}.nc\"\n",
    "    receive = requests.get(\n",
    "        url=f\"https://api.ubiops.com/v2.1/projects/raycast-production/buckets/predictions/files/{file_name}/download\", \n",
    "        headers={'Authorization': f'{token}'}\n",
    "    )\n",
    "\n",
    "    data = json.loads(receive.content)\n",
    "\n",
    "    return data"
   ]
  },
  {
   "cell_type": "code",
   "execution_count": 7,
   "metadata": {},
   "outputs": [],
   "source": [
    "data = raycast_data_by_query(token=os.environ[\"TOKEN_RAYCAST_USER\"], ref_datetime=ref_datetime)"
   ]
  },
  {
   "cell_type": "code",
   "execution_count": 8,
   "metadata": {},
   "outputs": [],
   "source": [
    "with open(\"data.nc\", \"w\") as f:\n",
    "    json.dump(data, f)"
   ]
  },
  {
   "cell_type": "code",
   "execution_count": null,
   "metadata": {},
   "outputs": [],
   "source": []
  }
 ],
 "metadata": {
  "kernelspec": {
   "display_name": "Python 3",
   "language": "python",
   "name": "python3"
  },
  "language_info": {
   "codemirror_mode": {
    "name": "ipython",
    "version": 3
   },
   "file_extension": ".py",
   "mimetype": "text/x-python",
   "name": "python",
   "nbconvert_exporter": "python",
   "pygments_lexer": "ipython3",
   "version": "3.10.14"
  }
 },
 "nbformat": 4,
 "nbformat_minor": 2
}
