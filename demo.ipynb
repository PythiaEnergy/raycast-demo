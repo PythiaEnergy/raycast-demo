{
 "cells": [
  {
   "cell_type": "code",
   "execution_count": 1,
   "metadata": {},
   "outputs": [],
   "source": [
    "import os \n",
    "from datetime import datetime\n",
    "import ubiops\n",
    "from dotenv import load_dotenv\n",
    "\n",
    "import matplotlib.pyplot as plt\n",
    "from matplotlib import colormaps\n",
    "import matplotlib.dates as mdates\n",
    "import numpy as np\n",
    "import xarray as xr\n",
    "import utils\n"
   ]
  },
  {
   "cell_type": "code",
   "execution_count": 2,
   "metadata": {},
   "outputs": [],
   "source": [
    "# Enter your API token here\n",
    "load_dotenv(\".env\")\n",
    "\n",
    "client = ubiops.ApiClient(ubiops.Configuration(\n",
    "\thost=\"https://api.ubiops.com/v2.1\",\n",
    "\tapi_key={\"Authorization\": os.environ[\"TOKEN_RAYCAST_USER\"]})\n",
    ")\n",
    "\n",
    "api = ubiops.CoreApi(client)\n"
   ]
  },
  {
   "cell_type": "code",
   "execution_count": 5,
   "metadata": {},
   "outputs": [],
   "source": [
    "# specify the reference datetime\n",
    "ref_datetime = datetime.strptime(\"2024-06-20 09:30:00\", \"%Y-%m-%d %H:%M:%S\")\n",
    "\n",
    "# request\n",
    "utils.raycast_data_by_query(token=os.environ[\"TOKEN_RAYCAST_USER\"], ref_datetime=ref_datetime)\n",
    "ds = xr.open_dataset(f\"irradiance_{ref_datetime.strftime('%Y%m%dT%H%M%S')}.nc\", engine=\"netcdf4\")"
   ]
  },
  {
   "cell_type": "code",
   "execution_count": 6,
   "metadata": {},
   "outputs": [
    {
     "data": {
      "image/png": "[encoded data removed]",
      "text/plain": [
       "<Figure size 800x300 with 1 Axes>"
      ]
     },
     "metadata": {},
     "output_type": "display_data"
    }
   ],
   "source": [
    "# specify location\n",
    "x = 5.177       \n",
    "y = 52.101\n",
    "\n",
    "fig, ax = plt.subplots(1,1,figsize=(8,3))\n",
    "\n",
    "# Get the alpha values for the PIs\n",
    "alphas = ds['quantile'].values[::-1][:6]\n",
    "\n",
    "# Get the data for a specific location\n",
    "location_data = ds.sel(x=x, y=y, method='nearest')\n",
    "\n",
    "# Loop over the quantiles and plot the PIs\n",
    "for q in range(6):\n",
    "    q_up = ds['quantile'][q].values\n",
    "    q_down = ds['quantile'][q+1].values\n",
    "\n",
    "    alpha = alphas[q]\n",
    "\n",
    "    ax.fill_between(\n",
    "        x=ds.time.values,\n",
    "        y1=location_data.sel(quantile=q_up)['irradiance'].values,\n",
    "        y2=location_data.sel(quantile=q_down)['irradiance'].values,\n",
    "        color='red',\n",
    "        alpha=alpha,\n",
    "        linewidth=0\n",
    "    )\n",
    "\n",
    "    q_up = ds['quantile'][q+6].values\n",
    "    q_down = ds['quantile'][q+6+1].values\n",
    "\n",
    "    alpha = alphas[::-1][q]\n",
    "\n",
    "    ax.fill_between(\n",
    "        x=ds.time.values,\n",
    "        y1=location_data.sel(quantile=q_up)['irradiance'].values,\n",
    "        y2=location_data.sel(quantile=q_down)['irradiance'].values,\n",
    "        color='red',\n",
    "        alpha=alpha,\n",
    "        linewidth=0\n",
    "    )\n",
    "\n",
    "# Plot the median\n",
    "ax.plot(\n",
    "        ds.time.values,\n",
    "        location_data.sel(quantile=0.5)['irradiance'].values,\n",
    "        color='red',\n",
    "    )\n",
    "\n",
    "# Format the axes and labels\n",
    "ax.set_ylim(0, 1000)\n",
    "ax.set_xlim(ds.time.values[0], ds.time.values[-1])\n",
    "ax.set_ylabel('Irradiance [W m$^{-2}$]')\n",
    "\n",
    "locator = mdates.AutoDateLocator()\n",
    "formatter = mdates.ConciseDateFormatter(locator)\n",
    "ax.xaxis.set_major_locator(locator)\n",
    "ax.xaxis.set_major_formatter(formatter)\n",
    "\n",
    "plt.tight_layout()\n"
   ]
  },
  {
   "cell_type": "code",
   "execution_count": null,
   "metadata": {},
   "outputs": [],
   "source": []
  }
 ],
 "metadata": {
  "kernelspec": {
   "display_name": "Python 3",
   "language": "python",
   "name": "python3"
  },
  "language_info": {
   "codemirror_mode": {
    "name": "ipython",
    "version": 3
   },
   "file_extension": ".py",
   "mimetype": "text/x-python",
   "name": "python",
   "nbconvert_exporter": "python",
   "pygments_lexer": "ipython3",
   "version": "3.10.14"
  }
 },
 "nbformat": 4,
 "nbformat_minor": 2
}
